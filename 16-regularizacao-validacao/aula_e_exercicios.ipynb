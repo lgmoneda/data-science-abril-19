{
 "cells": [
  {
   "cell_type": "markdown",
   "metadata": {},
   "source": [
    "# Validação e Regularização\n",
    "\n",
    "## Revisão \n",
    "\n",
    "### Aprendizado supervisionado\n",
    "\n",
    "$$ X \\xrightarrow{\\text{f}} y $$\n",
    "\n",
    "- Minimização do erro empírico - _Empirical Risk Minimization_ (o que isso significa?) \n",
    "- Aprendizado estatístico\n",
    "- Dados identicamente independentemente distribuídos (iid)\n",
    "- Queremos prever um valor de interesse, não estamos interessados (geralmente) no formato da 𝒇\n",
    "\n",
    "--- \n",
    "\n",
    "Na aula passada aprendemos sobre regressão linear. \n",
    "\n",
    "Uma forma de decompor um valor de interesse (__target__, $y$) em uma soma ponderada (a função $f$) de variáveis explicativas ($X$).\n",
    "\n",
    "$$ y = \\beta_{0} + \\beta_{0}*x_{1} + \\beta_{2}*x_{2} + \\epsilon $$\n",
    "\n",
    "Foi dito que para encontrar os melhores $ \\beta $s usaríamos uma solução que minimiza o erro quadrático, o MQO (mínimos quadrados ordinários).\n",
    "\n",
    "Também como foi dito, em aplicações de Machine Learning é usado um método iterativo para encontrar uma solução que minimize o erro quadrático médio. \n",
    "\n",
    "O erro é a diferença entre valor real ($y$) e valor previsto ($X\\beta$). Posso fazer esse erro ao quadrado e pegar a média em relação a cada ponto do conjunto de dados, no final, teríamos:\n",
    "\n",
    "\n",
    "$$Loss(\\beta) = \\frac{1}{n} \\sum^{n}_{i=1} (y_{i} - x_{i}^{T}\\beta)^{2} $$\n",
    "\n",
    "Então essa é a perda e nós queremos minimizá-la. Os $\\beta$s são aprendidos de acordo com uma técnica chamada *gradiente descendente* e para saber mais [veja aqui](https://www.youtube.com/watch?v=F6GSRDoB-Cg).\n",
    "\n",
    "O importante a saber por enquanto é: nós buscamos aprender a nossa $f$ que conecta dados de entrada em  um dado de saída ao minimizar essa função de custo nos dados de treino. \n",
    "\n",
    "O que poderia dar errado?"
   ]
  },
  {
   "cell_type": "markdown",
   "metadata": {},
   "source": [
    "## De volta aos slides!\n",
    "\n",
    ".  \n",
    ".  \n",
    ".  \n",
    ".  \n",
    ".  \n",
    ".  \n",
    ".  \n",
    ".  \n",
    ".  \n",
    ".  "
   ]
  },
  {
   "cell_type": "code",
   "execution_count": 1,
   "metadata": {},
   "outputs": [
    {
     "name": "stdout",
     "output_type": "stream",
     "text": [
      "Pandas:, 0.24.2\n",
      "Numpy:, 1.16.3\n",
      "Sklearn:, 0.20.3\n",
      "matplotlib:, 3.0.3\n"
     ]
    }
   ],
   "source": [
    "%matplotlib inline\n",
    "import pandas as pd\n",
    "import numpy as np\n",
    "import sklearn, matplotlib\n",
    "\n",
    "from matplotlib import pyplot as plt\n",
    "\n",
    "print(\"Pandas:,\", pd.__version__)\n",
    "print(\"Numpy:,\", np.__version__)\n",
    "print(\"Sklearn:,\", sklearn.__version__)\n",
    "print(\"matplotlib:,\", matplotlib.__version__)"
   ]
  },
  {
   "cell_type": "markdown",
   "metadata": {},
   "source": [
    "## Dados\n",
    "\n",
    "Vamos começar utilizando como exemplo os dados da competição [House Prices: Advanced Regression Techniques](https://www.kaggle.com/c/house-prices-advanced-regression-techniques/data)."
   ]
  },
  {
   "cell_type": "code",
   "execution_count": 2,
   "metadata": {},
   "outputs": [],
   "source": [
    "# Carregando os dados\n",
    "data = pd.read_csv(\"train.csv\")\n",
    "target = \"SalePrice\"\n",
    "\n",
    "# Resolvendo o problema de missing, mas não da melhor forma! \n",
    "data.fillna(data.median(), inplace=True)\n",
    "# Transformando o target no log do valor\n",
    "data[target] = np.log1p(data[target])\n",
    "# Excluindo os outliers\n",
    "data = data[data[\"LotArea\"] <= data[\"LotArea\"].quantile(0.95)]"
   ]
  },
  {
   "cell_type": "code",
   "execution_count": 3,
   "metadata": {
    "scrolled": true
   },
   "outputs": [
    {
     "name": "stdout",
     "output_type": "stream",
     "text": [
      "Existem 81 colunas no conjunto de dados\n",
      "Index(['Id', 'MSSubClass', 'MSZoning', 'LotFrontage', 'LotArea', 'Street',\n",
      "       'Alley', 'LotShape', 'LandContour', 'Utilities', 'LotConfig',\n",
      "       'LandSlope', 'Neighborhood', 'Condition1', 'Condition2', 'BldgType',\n",
      "       'HouseStyle', 'OverallQual', 'OverallCond', 'YearBuilt', 'YearRemodAdd',\n",
      "       'RoofStyle', 'RoofMatl', 'Exterior1st', 'Exterior2nd', 'MasVnrType',\n",
      "       'MasVnrArea', 'ExterQual', 'ExterCond', 'Foundation', 'BsmtQual',\n",
      "       'BsmtCond', 'BsmtExposure', 'BsmtFinType1', 'BsmtFinSF1',\n",
      "       'BsmtFinType2', 'BsmtFinSF2', 'BsmtUnfSF', 'TotalBsmtSF', 'Heating',\n",
      "       'HeatingQC', 'CentralAir', 'Electrical', '1stFlrSF', '2ndFlrSF',\n",
      "       'LowQualFinSF', 'GrLivArea', 'BsmtFullBath', 'BsmtHalfBath', 'FullBath',\n",
      "       'HalfBath', 'BedroomAbvGr', 'KitchenAbvGr', 'KitchenQual',\n",
      "       'TotRmsAbvGrd', 'Functional', 'Fireplaces', 'FireplaceQu', 'GarageType',\n",
      "       'GarageYrBlt', 'GarageFinish', 'GarageCars', 'GarageArea', 'GarageQual',\n",
      "       'GarageCond', 'PavedDrive', 'WoodDeckSF', 'OpenPorchSF',\n",
      "       'EnclosedPorch', '3SsnPorch', 'ScreenPorch', 'PoolArea', 'PoolQC',\n",
      "       'Fence', 'MiscFeature', 'MiscVal', 'MoSold', 'YrSold', 'SaleType',\n",
      "       'SaleCondition', 'SalePrice'],\n",
      "      dtype='object')\n"
     ]
    }
   ],
   "source": [
    "print(\"Existem {} colunas no conjunto de dados\".format(data.shape[1]))\n",
    "print(data.columns)"
   ]
  },
  {
   "cell_type": "code",
   "execution_count": 4,
   "metadata": {
    "scrolled": true
   },
   "outputs": [
    {
     "data": {
      "text/html": [
       "<div>\n",
       "<style scoped>\n",
       "    .dataframe tbody tr th:only-of-type {\n",
       "        vertical-align: middle;\n",
       "    }\n",
       "\n",
       "    .dataframe tbody tr th {\n",
       "        vertical-align: top;\n",
       "    }\n",
       "\n",
       "    .dataframe thead th {\n",
       "        text-align: right;\n",
       "    }\n",
       "</style>\n",
       "<table border=\"1\" class=\"dataframe\">\n",
       "  <thead>\n",
       "    <tr style=\"text-align: right;\">\n",
       "      <th></th>\n",
       "      <th>Id</th>\n",
       "      <th>MSSubClass</th>\n",
       "      <th>MSZoning</th>\n",
       "      <th>LotFrontage</th>\n",
       "      <th>LotArea</th>\n",
       "      <th>Street</th>\n",
       "      <th>Alley</th>\n",
       "      <th>LotShape</th>\n",
       "      <th>LandContour</th>\n",
       "      <th>Utilities</th>\n",
       "      <th>...</th>\n",
       "      <th>PoolArea</th>\n",
       "      <th>PoolQC</th>\n",
       "      <th>Fence</th>\n",
       "      <th>MiscFeature</th>\n",
       "      <th>MiscVal</th>\n",
       "      <th>MoSold</th>\n",
       "      <th>YrSold</th>\n",
       "      <th>SaleType</th>\n",
       "      <th>SaleCondition</th>\n",
       "      <th>SalePrice</th>\n",
       "    </tr>\n",
       "  </thead>\n",
       "  <tbody>\n",
       "    <tr>\n",
       "      <th>0</th>\n",
       "      <td>1</td>\n",
       "      <td>60</td>\n",
       "      <td>RL</td>\n",
       "      <td>65.0</td>\n",
       "      <td>8450</td>\n",
       "      <td>Pave</td>\n",
       "      <td>NaN</td>\n",
       "      <td>Reg</td>\n",
       "      <td>Lvl</td>\n",
       "      <td>AllPub</td>\n",
       "      <td>...</td>\n",
       "      <td>0</td>\n",
       "      <td>NaN</td>\n",
       "      <td>NaN</td>\n",
       "      <td>NaN</td>\n",
       "      <td>0</td>\n",
       "      <td>2</td>\n",
       "      <td>2008</td>\n",
       "      <td>WD</td>\n",
       "      <td>Normal</td>\n",
       "      <td>12.247699</td>\n",
       "    </tr>\n",
       "    <tr>\n",
       "      <th>1</th>\n",
       "      <td>2</td>\n",
       "      <td>20</td>\n",
       "      <td>RL</td>\n",
       "      <td>80.0</td>\n",
       "      <td>9600</td>\n",
       "      <td>Pave</td>\n",
       "      <td>NaN</td>\n",
       "      <td>Reg</td>\n",
       "      <td>Lvl</td>\n",
       "      <td>AllPub</td>\n",
       "      <td>...</td>\n",
       "      <td>0</td>\n",
       "      <td>NaN</td>\n",
       "      <td>NaN</td>\n",
       "      <td>NaN</td>\n",
       "      <td>0</td>\n",
       "      <td>5</td>\n",
       "      <td>2007</td>\n",
       "      <td>WD</td>\n",
       "      <td>Normal</td>\n",
       "      <td>12.109016</td>\n",
       "    </tr>\n",
       "    <tr>\n",
       "      <th>2</th>\n",
       "      <td>3</td>\n",
       "      <td>60</td>\n",
       "      <td>RL</td>\n",
       "      <td>68.0</td>\n",
       "      <td>11250</td>\n",
       "      <td>Pave</td>\n",
       "      <td>NaN</td>\n",
       "      <td>IR1</td>\n",
       "      <td>Lvl</td>\n",
       "      <td>AllPub</td>\n",
       "      <td>...</td>\n",
       "      <td>0</td>\n",
       "      <td>NaN</td>\n",
       "      <td>NaN</td>\n",
       "      <td>NaN</td>\n",
       "      <td>0</td>\n",
       "      <td>9</td>\n",
       "      <td>2008</td>\n",
       "      <td>WD</td>\n",
       "      <td>Normal</td>\n",
       "      <td>12.317171</td>\n",
       "    </tr>\n",
       "    <tr>\n",
       "      <th>3</th>\n",
       "      <td>4</td>\n",
       "      <td>70</td>\n",
       "      <td>RL</td>\n",
       "      <td>60.0</td>\n",
       "      <td>9550</td>\n",
       "      <td>Pave</td>\n",
       "      <td>NaN</td>\n",
       "      <td>IR1</td>\n",
       "      <td>Lvl</td>\n",
       "      <td>AllPub</td>\n",
       "      <td>...</td>\n",
       "      <td>0</td>\n",
       "      <td>NaN</td>\n",
       "      <td>NaN</td>\n",
       "      <td>NaN</td>\n",
       "      <td>0</td>\n",
       "      <td>2</td>\n",
       "      <td>2006</td>\n",
       "      <td>WD</td>\n",
       "      <td>Abnorml</td>\n",
       "      <td>11.849405</td>\n",
       "    </tr>\n",
       "    <tr>\n",
       "      <th>4</th>\n",
       "      <td>5</td>\n",
       "      <td>60</td>\n",
       "      <td>RL</td>\n",
       "      <td>84.0</td>\n",
       "      <td>14260</td>\n",
       "      <td>Pave</td>\n",
       "      <td>NaN</td>\n",
       "      <td>IR1</td>\n",
       "      <td>Lvl</td>\n",
       "      <td>AllPub</td>\n",
       "      <td>...</td>\n",
       "      <td>0</td>\n",
       "      <td>NaN</td>\n",
       "      <td>NaN</td>\n",
       "      <td>NaN</td>\n",
       "      <td>0</td>\n",
       "      <td>12</td>\n",
       "      <td>2008</td>\n",
       "      <td>WD</td>\n",
       "      <td>Normal</td>\n",
       "      <td>12.429220</td>\n",
       "    </tr>\n",
       "  </tbody>\n",
       "</table>\n",
       "<p>5 rows × 81 columns</p>\n",
       "</div>"
      ],
      "text/plain": [
       "   Id  MSSubClass MSZoning  LotFrontage  LotArea Street Alley LotShape  \\\n",
       "0   1          60       RL         65.0     8450   Pave   NaN      Reg   \n",
       "1   2          20       RL         80.0     9600   Pave   NaN      Reg   \n",
       "2   3          60       RL         68.0    11250   Pave   NaN      IR1   \n",
       "3   4          70       RL         60.0     9550   Pave   NaN      IR1   \n",
       "4   5          60       RL         84.0    14260   Pave   NaN      IR1   \n",
       "\n",
       "  LandContour Utilities  ... PoolArea PoolQC Fence MiscFeature MiscVal MoSold  \\\n",
       "0         Lvl    AllPub  ...        0    NaN   NaN         NaN       0      2   \n",
       "1         Lvl    AllPub  ...        0    NaN   NaN         NaN       0      5   \n",
       "2         Lvl    AllPub  ...        0    NaN   NaN         NaN       0      9   \n",
       "3         Lvl    AllPub  ...        0    NaN   NaN         NaN       0      2   \n",
       "4         Lvl    AllPub  ...        0    NaN   NaN         NaN       0     12   \n",
       "\n",
       "  YrSold  SaleType  SaleCondition  SalePrice  \n",
       "0   2008        WD         Normal  12.247699  \n",
       "1   2007        WD         Normal  12.109016  \n",
       "2   2008        WD         Normal  12.317171  \n",
       "3   2006        WD        Abnorml  11.849405  \n",
       "4   2008        WD         Normal  12.429220  \n",
       "\n",
       "[5 rows x 81 columns]"
      ]
     },
     "execution_count": 4,
     "metadata": {},
     "output_type": "execute_result"
    }
   ],
   "source": [
    "data.head()"
   ]
  },
  {
   "cell_type": "markdown",
   "metadata": {},
   "source": [
    "## Construindo o melhor modelo para minimizar o erro!"
   ]
  },
  {
   "cell_type": "code",
   "execution_count": 5,
   "metadata": {},
   "outputs": [],
   "source": [
    "from sklearn.linear_model import LinearRegression"
   ]
  },
  {
   "cell_type": "code",
   "execution_count": 6,
   "metadata": {},
   "outputs": [],
   "source": [
    "def plot_regressao(data, model, features, target, plot_feature):\n",
    "    \"\"\"\n",
    "    Faz o plot das previsões geradas por uma regressão em relação à uma única \n",
    "    variável.\n",
    "    \"\"\"\n",
    "    plt.clf()\n",
    "    plt.figure(figsize=(14, 10))\n",
    "    plt.scatter(data[plot_feature], \n",
    "                data[target],\n",
    "                label=\"Valores reais\")\n",
    "    \n",
    "    plt.scatter(data[plot_feature],\n",
    "                model.predict(data[features]),\n",
    "                color=\"r\",\n",
    "                s=1.5,\n",
    "                label=\"Valores previstos\")    \n",
    "    plt.legend()\n",
    "    plt.xlabel(plot_feature)\n",
    "    plt.ylabel(target)\n",
    "    plt.title(\"Valores estimados pela regressão\")\n",
    "    plt.show()\n",
    "    \n",
    "\n",
    "def plot_regressao_order_p(data, model, target, plot_feature, order):   \n",
    "    \"\"\"\n",
    "    Faz o plot de uma regressão em relação à uma única variável adicionando até\n",
    "    o termo de ordem order no polinômio como variável de entrada.\n",
    "    \"\"\"\n",
    "    features = [plot_feature]\n",
    "    for k in range(2, order + 1):\n",
    "        data[\"LotArea\" + str(k)] = data[\"LotArea\"] ** k\n",
    "        features += [\"LotArea\" + str(k)]\n",
    "    \n",
    "    model.fit(data[features], data[target])\n",
    "    \n",
    "    plot_regressao(data,\n",
    "                   model, \n",
    "                   features,\n",
    "                   target,\n",
    "                   plot_feature=features[0])"
   ]
  },
  {
   "cell_type": "code",
   "execution_count": 7,
   "metadata": {},
   "outputs": [
    {
     "data": {
      "text/plain": [
       "<Figure size 432x288 with 0 Axes>"
      ]
     },
     "metadata": {},
     "output_type": "display_data"
    },
    {
     "data": {
      "image/png": "[encoded data removed]",
      "text/plain": [
       "<Figure size 1008x720 with 1 Axes>"
      ]
     },
     "metadata": {
      "needs_background": "light"
     },
     "output_type": "display_data"
    }
   ],
   "source": [
    "plot_regressao_order_p(data,\n",
    "                       LinearRegression(),\n",
    "                       target, \n",
    "                       plot_feature=\"LotArea\", \n",
    "                       order=1)"
   ]
  },
  {
   "cell_type": "markdown",
   "metadata": {},
   "source": [
    "Se o problema do overfitting é prejudicar as previsões, como saberei se este é o caso?\n",
    "\n",
    "## De volta aos slides!\n",
    "\n",
    ".  \n",
    ".  \n",
    ".  \n",
    ".  \n",
    ".  \n",
    ".  \n",
    ".  \n",
    ".  \n",
    ".  \n",
    ". "
   ]
  },
  {
   "cell_type": "markdown",
   "metadata": {},
   "source": [
    "## E se eu fizer de conta que...\n",
    "\n",
    "...uma parcela dos dados é desconhecida enquanto eu desenvolvo o modelo?\n",
    "\n",
    "**Exercício**:\n",
    "\n",
    "1. Separar os nossos dados em uma base de treino e teste (80/20).\n",
    "\n",
    "Para tal você utilizará o [train_test_split](http://scikit-learn.org/stable/modules/generated/sklearn.model_selection.train_test_split.html) do sklearn. Veja a documentação no link para entender como implementar.\n",
    "\n",
    "2. Calcular o MSE para o conjunto de treino e teste para as versões do modelo com ordem máxima para `LotArea` de 1, 2, 5, 10 e 30.\n",
    "\n",
    "3. Comentar a diferença dos resultados para cada uma das versões."
   ]
  },
  {
   "cell_type": "code",
   "execution_count": 8,
   "metadata": {},
   "outputs": [],
   "source": [
    "from sklearn.model_selection import train_test_split\n",
    "from sklearn.metrics import mean_squared_error\n",
    "\n",
    "## SEU CODIGO AQUI!"
   ]
  },
  {
   "cell_type": "markdown",
   "metadata": {},
   "source": [
    "Houve algum padrão na variação do erro de treino e teste quando aumentamos a complexidade?\n",
    "\n",
    "**Discussão 1**: como complexidade e os erros no treino e teste se relacionam?\n",
    "\n",
    "Você fez uma escolha para realizar essa divisão: qual proporção fica para treino e qual fica para teste.\n",
    "\n",
    "**Discussão 2**: como tomar essa decisão? O que está envolvida nela?\n",
    "\n",
    "# -> Checkpoint! <-\n",
    "\n",
    "## De volta aos slides!\n",
    "\n",
    ".  \n",
    ".  \n",
    ".  \n",
    ".  \n",
    ".  \n",
    ".  \n",
    ".  \n",
    ".  \n",
    ".  \n",
    ". "
   ]
  },
  {
   "cell_type": "markdown",
   "metadata": {},
   "source": [
    "## Validação cruzada\n",
    "\n",
    "Eu gostaria de treinar o meu modelo com todos os dados possíveis.\n",
    "\n",
    "Tem uma forma mais robusta e inteligente de testar o nosso modelo. \n",
    "\n",
    "**Exercício**: \n",
    "\n",
    "1. Utilizar `k-fold` com 5 folds para validar o seu modelo. Faça apenas para as versões de grau 1, 5, 10 e 30.\n",
    "2. Comparar com os resultados anteriores.\n",
    "\n",
    "Você utilizará o [KFold](https://scikit-learn.org/stable/modules/generated/sklearn.model_selection.KFold.html)."
   ]
  },
  {
   "cell_type": "code",
   "execution_count": 9,
   "metadata": {},
   "outputs": [],
   "source": [
    "from sklearn.model_selection import KFold\n",
    "\n",
    "## SEU CODIGO AQUI!"
   ]
  },
  {
   "cell_type": "markdown",
   "metadata": {},
   "source": [
    "**Discussão**: como foi o resultado em comparação com o caso anterior?"
   ]
  },
  {
   "cell_type": "markdown",
   "metadata": {},
   "source": [
    "# -> Checkpoint! <-"
   ]
  },
  {
   "cell_type": "markdown",
   "metadata": {},
   "source": [
    "## Ok, agora sei identificar overfitting, mas como evitá-lo?\n",
    "\n",
    "**Regularização!**\n",
    "\n",
    "## Lasso e Ridge\n",
    "\n",
    "- Lasso\n",
    "$$Loss(\\beta) = \\frac{1}{n} \\sum^{n}_{i=1} (y_{i} - x_{i}^{T}\\beta)^{2} + \\lambda \\sum^{k}_{j=1}\\mid\\beta_{j}\\mid$$\n",
    "\n",
    "- Ridge\n",
    "$$Loss(\\beta) = \\frac{1}{n} \\sum^{n}_{i=1} (y_{i} - x_{i}^{T}\\beta)^{2} + \\lambda \\sum^{k}_{j=1}\\beta^{2}_{j}$$\n",
    "\n"
   ]
  },
  {
   "cell_type": "markdown",
   "metadata": {},
   "source": [
    "## Regularização para combater o overfitting!\n",
    "\n",
    "Sempre que aplicamos Machine Learning queremos ter um bom desempenho preditivo. Saber com alta acurácia um evento futuro nos dá uma vantagem para tomar uma ação melhor. Portanto, o overfitting degrada o valor que nosso modelo entrega. Lembre-se que o valor dos seus projetos em Machine Learning sempre virão das **previsões em produção**!\n",
    "\n",
    "#### Exercício em sala\n",
    "\n",
    "Imagine que agora você foi **contratado como cientista de dados em uma imoboliária**. Um dos negócios dela é intermediar a compra e venda de imóveis e é útil ter um modelo para prever o preço de um casa dadas as suas características.\n",
    "\n",
    "O cientista de dados anterior construiu um modelo para tal usando o `LotArea` até o grau 30, porém, ele apresenta problemas (e foi por isso que o demitiram e contrataram você!). \n",
    "\n",
    "**Questões**:\n",
    "1. Escrava um parágrafo explicando para a sua equipe qual foi o problema encontrado\n",
    "2. Utilize regularização L2 (Ridge) para mitigar o problema. \n",
    "3. Compare o resultado encontrado com o dos exercícios anteriores"
   ]
  },
  {
   "cell_type": "code",
   "execution_count": 10,
   "metadata": {},
   "outputs": [],
   "source": [
    "## SEU CÓDIGO AQUI!"
   ]
  },
  {
   "cell_type": "markdown",
   "metadata": {},
   "source": [
    "## Regularização para seleção de variáveis\n",
    "\n",
    "Um cenário comum em empresas é: tenho centenas de variáveis para criar um modelo. Porém, ao colocar em produção é preciso monitorar e dar manutenção em todas elas, então deve-se utilizá-las com sabedoria (ou seja, só incluir as que valem a pena). \n",
    "\n",
    "Como vimos, regularização L1 é útil para fazer seleção de variáveis. \n",
    "\n",
    "#### Exercício em sala\n",
    "\n",
    "Após identificar o problema, porém, você foi informado que soluções que usam muitas variáveis apresentariam um custo maior de implementação e manuntenção (ok, aqui estamos usando apenas variáveis derivadas de uma só, mas imagine que elas são de fontes diferentes!). A sua equipe agora quer levantar alternativas sobre desempenho e quantidade de variáveis para apresentar.\n",
    "\n",
    "**Questão**:\n",
    "1. Utilize regularização L1 para selecionar as variáveis e justifique o desempenho e quantidade de variáveis final para a sua equipe através de um parágrafo. \n",
    "2. Compare o resultado com os anteriores.\n",
    "\n",
    "Tome como ponto de partida o modelo com o `LotArea` até o grau 30 acima."
   ]
  },
  {
   "cell_type": "code",
   "execution_count": 11,
   "metadata": {},
   "outputs": [],
   "source": [
    "## SEU CÓDIGO AQUI!"
   ]
  },
  {
   "cell_type": "markdown",
   "metadata": {},
   "source": [
    "# -> Checkpoint! <-"
   ]
  },
  {
   "cell_type": "markdown",
   "metadata": {},
   "source": [
    "## Revisitando o exemplo da aula anterior\n",
    "\n",
    "Bom, agora sabemos validar!\n",
    "\n",
    "Que tal aplicarmos no exemplo da aula anterior?\n",
    "\n",
    "## De volta aos slides!\n",
    "\n",
    ".  \n",
    ".  \n",
    ".  \n",
    ".  \n",
    ".  \n",
    ".  \n",
    ".  \n",
    ".  \n",
    ".  \n",
    ".  "
   ]
  },
  {
   "cell_type": "markdown",
   "metadata": {},
   "source": [
    "## Pós aula\n",
    "\n",
    "### Regularização está em todos os lugares!\n",
    "\n",
    "Regularização não é uma exclusividade da regressão linear e é uma técnica utilizada em uma grande variedade de modelos!\n",
    "\n",
    "Porém, o foco é sempre o mesmo: controlar a complexidade do modelo visando favorecer o poder de generalização.\n",
    "\n",
    "#### Exercícios\n",
    "\n",
    "**Regularização em outros modelos**:  \n",
    "Pesquise qual é o termo de regularização para os seguintes modelos:\n",
    "\n",
    "- SVM\n",
    "- Neural Networks\n",
    "- XGBoost\n",
    "\n",
    "O primeiro e mais importante ponto é identificar o termo/parâmetro. Segundo, caso haja interesse, busque detalhes de como a regularização \"atua\" no modelo. Ou seja, o que aumentar ou diminuir o termo associado à ela modifica no modelo. \n",
    "\n",
    "Mesmo que você ainda não tenha aprendido sobre estes modelos, vale a pena uma pesquisa breve sobre!\n",
    "\n",
    "**Validação**: \n",
    "\n",
    "Como visto na apresentação, validação é algo que pode ser sutil e é bem específico de cada caso. Para treinar um pouco o nosso \"senso-do-que-devo-me-preocupar-quando-estiver-validando-um-modelo-em-diferentes-situações\", descreva com o que você se preocuparia e como escolheria validar os modelos gerados em cada uma das seguintes situações:\n",
    "\n",
    "1. Uma plataforma de streaming de música quer construir um sistema de recomendação e possui um dataset com execução de músicas e um critério de sucesso;\n",
    "2. Um banco quer automatizar as suas decisões de crédito e passará a utilizar um modelo para decidir empréstimos;\n",
    "3. Um sistema de cadastro que usa fotos enviadas por usuários gostaria de identificar automaticamente quando eles enviam uma foto borrada e que não pode ser usada;\n",
    "\n",
    "**Praticando**:\n",
    "\n",
    "A competição [House Prices: Advanced Regression Techniques](https://www.kaggle.com/c/house-prices-advanced-regression-techniques/data) está no Kaggle para servir de tutorial, então é um ótimo lugar para experimentar o que aprendemos: crie uma conta no Kaggle e entre nela!\n",
    "\n",
    "Seus objetivos são: 1) criar um esquema de validação que faça com que o desempenho estimado fique o mais próximo possível daquele calculado pelo Kaggle quando a sua resposta é submetida e 2) utilizar regularização em um modelo de regressão para controlar o _overfitting_!\n",
    "\n",
    "Aproveite o recurso do **kernel** para aprender! O Kernel é simplesmente um pedaço de código que as pessoas compartilham no Kaggle em relação a competição. Considerando a _House Prices_ e o assunto da aula, seria interessante ler o [Regularized linear models](https://www.kaggle.com/apapiu/regularized-linear-models)!"
   ]
  }
 ],
 "metadata": {
  "kernelspec": {
   "display_name": "fia",
   "language": "python",
   "name": "python3"
  },
  "language_info": {
   "codemirror_mode": {
    "name": "ipython",
    "version": 3
   },
   "file_extension": ".py",
   "mimetype": "text/x-python",
   "name": "python",
   "nbconvert_exporter": "python",
   "pygments_lexer": "ipython3",
   "version": "3.6.0"
  }
 },
 "nbformat": 4,
 "nbformat_minor": 2
}
